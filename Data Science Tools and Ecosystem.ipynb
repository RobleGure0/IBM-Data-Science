{
 "cells": [
  {
   "cell_type": "markdown",
   "id": "e1ab0a20-00a0-4529-9988-f63e45aa2c5b",
   "metadata": {},
   "source": [
    "Data Science Tools and Ecosystem"
   ]
  },
  {
   "cell_type": "markdown",
   "id": "4a6c0857-bd57-4114-9b7d-2223d60f3779",
   "metadata": {},
   "source": [
    "In this notebook Data Science tools and Ecosystem are summarized"
   ]
  },
  {
   "cell_type": "markdown",
   "id": "99d54209-6360-4b9f-810f-286e361a071d",
   "metadata": {},
   "source": [
    "Some of the popular languages are:\n",
    "\n",
    "1. Python\n",
    "2. R\n",
    "3. SQL\n",
    "4. C++\n",
    "5. Java"
   ]
  },
  {
   "cell_type": "markdown",
   "id": "759a0988-7908-4ec6-a25e-098f0e4070fc",
   "metadata": {},
   "source": [
    "Some of the popular libraries are:\n",
    "\n",
    "1. TensorFlow\n",
    "2. NumPy\n",
    "3. SciPy\n",
    "4. Pandas\n",
    "5. Matplotlib"
   ]
  },
  {
   "cell_type": "markdown",
   "id": "c4a41121-2524-4c7c-973d-675d040498eb",
   "metadata": {},
   "source": [
    "|Popular Languages| Popular Libraries |\n",
    "|-------------------|------------------|\n",
    "| Python           | TensorFlow       |\n",
    "| R               | NumPy            |\n",
    "| SQL             | SciPy            |\n",
    "| C++             | Pandas           |\n",
    "| Java            | Matplotlib       |"
   ]
  },
  {
   "cell_type": "markdown",
   "id": "59684095-f005-4c70-a77c-09d4bf258af9",
   "metadata": {},
   "source": [
    "## Below are a few arithmetic expressions"
   ]
  },
  {
   "cell_type": "code",
   "execution_count": 12,
   "id": "3603214f-a9c1-4952-be48-3a64f82079f2",
   "metadata": {},
   "outputs": [
    {
     "data": {
      "text/plain": [
       "19"
      ]
     },
     "execution_count": 12,
     "metadata": {},
     "output_type": "execute_result"
    }
   ],
   "source": [
    "(3*4) + 7"
   ]
  },
  {
   "cell_type": "code",
   "execution_count": 14,
   "id": "27d2c971-1114-4077-904e-cdf3b0bddcd1",
   "metadata": {},
   "outputs": [
    {
     "data": {
      "text/plain": [
       "33.333333333333336"
      ]
     },
     "execution_count": 14,
     "metadata": {},
     "output_type": "execute_result"
    }
   ],
   "source": [
    "(200/6)"
   ]
  },
  {
   "cell_type": "markdown",
   "id": "4dd7f1d8-3f43-454c-8012-8578d4a447e8",
   "metadata": {},
   "source": [
    "_Objective_\n",
    "* List popular languages for data science\n",
    "* List popular libraries for data science\n",
    "* Create a table for both\n",
    "* Show arithmetic expressions "
   ]
  },
  {
   "cell_type": "markdown",
   "id": "a7988eb0-2156-410b-9c9e-ddd1084581c9",
   "metadata": {},
   "source": [
    "Author\n",
    "\n",
    "Roble Gure"
   ]
  }
 ],
 "metadata": {
  "kernelspec": {
   "display_name": "Python 3 (ipykernel)",
   "language": "python",
   "name": "python3"
  },
  "language_info": {
   "codemirror_mode": {
    "name": "ipython",
    "version": 3
   },
   "file_extension": ".py",
   "mimetype": "text/x-python",
   "name": "python",
   "nbconvert_exporter": "python",
   "pygments_lexer": "ipython3",
   "version": "3.12.4"
  }
 },
 "nbformat": 4,
 "nbformat_minor": 5
}
